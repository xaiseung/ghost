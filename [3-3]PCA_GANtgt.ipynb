{
 "cells": [
  {
   "cell_type": "markdown",
   "id": "fe33e348",
   "metadata": {},
   "source": [
    "# 코드설명(임시)\n",
    "- GAN 중간값 pca하는 코드"
   ]
  },
  {
   "cell_type": "code",
   "execution_count": 1,
   "id": "published-metro",
   "metadata": {},
   "outputs": [
    {
     "name": "stderr",
     "output_type": "stream",
     "text": [
      "/compuworks/anaconda3/envs/xaiseung_ghost_cuda114/lib/python3.9/site-packages/kornia/augmentation/augmentation.py:1830: DeprecationWarning: GaussianBlur is no longer maintained and will be removed from the future versions. Please use RandomGaussianBlur instead.\n",
      "  warnings.warn(\n",
      "/compuworks/anaconda3/envs/xaiseung_ghost_cuda114/lib/python3.9/site-packages/mxnet/numpy/fallback.py:143: DeprecationWarning: In accordance with NEP 32, the function mirr was removed from NumPy version 1.20.  A replacement for this function is available in the numpy_financial library: https://pypi.org/project/numpy-financial\n",
      "  mirr = onp.mirr\n",
      "/compuworks/anaconda3/envs/xaiseung_ghost_cuda114/lib/python3.9/site-packages/mxnet/numpy/fallback.py:160: DeprecationWarning: In accordance with NEP 32, the function npv was removed from NumPy version 1.20.  A replacement for this function is available in the numpy_financial library: https://pypi.org/project/numpy-financial\n",
      "  npv = onp.npv\n",
      "/compuworks/anaconda3/envs/xaiseung_ghost_cuda114/lib/python3.9/site-packages/mxnet/numpy/fallback.py:164: DeprecationWarning: In accordance with NEP 32, the function pmt was removed from NumPy version 1.20.  A replacement for this function is available in the numpy_financial library: https://pypi.org/project/numpy-financial\n",
      "  pmt = onp.pmt\n",
      "/compuworks/anaconda3/envs/xaiseung_ghost_cuda114/lib/python3.9/site-packages/mxnet/numpy/fallback.py:173: DeprecationWarning: In accordance with NEP 32, the function ppmt was removed from NumPy version 1.20.  A replacement for this function is available in the numpy_financial library: https://pypi.org/project/numpy-financial\n",
      "  ppmt = onp.ppmt\n",
      "/compuworks/anaconda3/envs/xaiseung_ghost_cuda114/lib/python3.9/site-packages/mxnet/numpy/fallback.py:176: DeprecationWarning: In accordance with NEP 32, the function pv was removed from NumPy version 1.20.  A replacement for this function is available in the numpy_financial library: https://pypi.org/project/numpy-financial\n",
      "  pv = onp.pv\n",
      "/compuworks/anaconda3/envs/xaiseung_ghost_cuda114/lib/python3.9/site-packages/mxnet/numpy/fallback.py:177: DeprecationWarning: In accordance with NEP 32, the function rate was removed from NumPy version 1.20.  A replacement for this function is available in the numpy_financial library: https://pypi.org/project/numpy-financial\n",
      "  rate = onp.rate\n",
      "/compuworks/anaconda3/envs/xaiseung_ghost_cuda114/lib/python3.9/site-packages/mxnet/numpy_dispatch_protocol.py:48: DeprecationWarning: distutils Version classes are deprecated. Use packaging.version instead.\n",
      "  cur_np_ver = LooseVersion(_np.__version__)\n",
      "/compuworks/anaconda3/envs/xaiseung_ghost_cuda114/lib/python3.9/site-packages/mxnet/numpy_dispatch_protocol.py:49: DeprecationWarning: distutils Version classes are deprecated. Use packaging.version instead.\n",
      "  np_1_17_ver = LooseVersion('1.17')\n",
      "/compuworks/anaconda3/envs/xaiseung_ghost_cuda114/lib/python3.9/site-packages/mxnet/numpy_dispatch_protocol.py:68: DeprecationWarning: distutils Version classes are deprecated. Use packaging.version instead.\n",
      "  cur_np_ver = LooseVersion(_np.__version__)\n",
      "/compuworks/anaconda3/envs/xaiseung_ghost_cuda114/lib/python3.9/site-packages/mxnet/numpy_dispatch_protocol.py:69: DeprecationWarning: distutils Version classes are deprecated. Use packaging.version instead.\n",
      "  np_1_15_ver = LooseVersion('1.15')\n"
     ]
    }
   ],
   "source": [
    "import tqdm\n",
    "\n",
    "def nop(it, *a, **k):\n",
    "    return it\n",
    "\n",
    "real_tqdm = tqdm.tqdm\n",
    "tqdm.tqdm = nop\n",
    "\n",
    "import glob\n",
    "import pickle\n",
    "\n",
    "import numpy as np\n",
    "from sklearn.decomposition import PCA\n",
    "import matplotlib.pyplot as plt\n",
    "\n",
    "np.bool = np.bool_\n"
   ]
  },
  {
   "cell_type": "markdown",
   "id": "a95af4ce",
   "metadata": {},
   "source": [
    "# PCA for zattr[0]\n",
    "- 모든 데이터 사용\n",
    "- PCA 컴포넌트 제한 없음 (역연산시 완전복원)\n",
    "- minmax 한번에 구함"
   ]
  },
  {
   "cell_type": "code",
   "execution_count": 12,
   "id": "7ca684e9",
   "metadata": {},
   "outputs": [],
   "source": [
    "attr_id = 0\n",
    "\n",
    "emb_array = []\n",
    "\n",
    "emb_file_list = glob.glob(\"./examples/z_embeds/VggFace2-crop/*.pkl\")\n",
    "\n",
    "for file_path in real_tqdm(emb_file_list):\n",
    "    with open(file_path, \"rb\") as file:\n",
    "        emb_array.append(pickle.load(file)[attr_id].reshape([-1]))\n",
    "emb_array = np.array(emb_array)\n",
    "\n",
    "\n",
    "pca = PCA(svd_solver=\"full\")\n",
    "pca.fit(emb_array)\n",
    "with open(f\"zattr{attr_id}PCA.pkl\", \"wb\") as file:\n",
    "    pickle.dump(pca, file)\n",
    "\n",
    "pca_array = pca.transform(emb_array)\n",
    "\n",
    "pca_minmax = dict({\"min\": np.amin(pca_array, axis=0), \"max\": np.amax(pca_array, axis=0)})\n",
    "\n",
    "with open(f\"zattr{attr_id}PCAMinMax.pkl\", \"wb\") as file:\n",
    "    pickle.dump(pca_minmax, file)"
   ]
  },
  {
   "cell_type": "markdown",
   "id": "700f8900",
   "metadata": {},
   "source": [
    "# PCA for zattr[1, 2, 3, 4]\n",
    "- 모든 데이터 사용\n",
    "- PCA 컴포넌트 1024개 사용"
   ]
  },
  {
   "cell_type": "code",
   "execution_count": 2,
   "id": "985152a4",
   "metadata": {},
   "outputs": [
    {
     "name": "stdout",
     "output_type": "stream",
     "text": [
      "0.9977929721355753\n",
      "0.9799507086672928\n",
      "0.8972457271133294\n"
     ]
    }
   ],
   "source": [
    "for attr_id in [1, 2, 3, 4]:\n",
    "    emb_array = []\n",
    "\n",
    "    emb_file_list = glob.glob(\"./examples/z_embeds/VggFace2-crop/*.pkl\")\n",
    "\n",
    "    for file_path in real_tqdm(emb_file_list):\n",
    "            with open(file_path, \"rb\") as file:\n",
    "                emb_array.append(pickle.load(file)[attr_id].reshape([-1]))\n",
    "    emb_array = np.array(emb_array)\n",
    "\n",
    "    pca = PCA(n_components=1024, svd_solver=\"auto\")\n",
    "\n",
    "    pca.fit(emb_array)\n",
    "    print(\"PCA가 다루는 분산 비율:\", np.sum(pca.explained_variance_ratio_))\n",
    "    with open(f\"zattr{attr_id}PCA.pkl\", \"wb\") as file:\n",
    "        pickle.dump(pca, file)\n",
    "\n",
    "    max_pca_array = -np.inf\n",
    "    min_pca_array = np.inf\n",
    "\n",
    "    for i in real_tqdm(range(emb_array.shape[0])):\n",
    "        tmp = emb_array[i:i+1]\n",
    "        pca_array = pca.transform(tmp)\n",
    "        max_pca_array = np.maximum(max_pca_array, pca_array)\n",
    "        min_pca_array = np.minimum(min_pca_array, pca_array)\n",
    "\n",
    "    pca_minmax = dict({\"min\": min_pca_array[0], \"max\": max_pca_array[0]})\n",
    "\n",
    "    with open(f\"zattr{attr_id}PCAMinMax.pkl\", \"wb\") as file:\n",
    "        pickle.dump(pca_minmax, file)\n",
    "    \n",
    "    del pca, emb_array, pca_array, max_pca_array, min_pca_array, pca_minmax, tmp"
   ]
  },
  {
   "cell_type": "markdown",
   "id": "6323935a",
   "metadata": {},
   "source": [
    "# PCA for zattr[5~6]\n",
    "- 데이터의 약 80% 사용\n",
    "- PCA 컴포넌트 1024개"
   ]
  },
  {
   "cell_type": "code",
   "execution_count": 1,
   "id": "02b4ec75",
   "metadata": {},
   "outputs": [
    {
     "name": "stdout",
     "output_type": "stream",
     "text": [
      "0.8293578069785364\n",
      "0.8965594179673989\n"
     ]
    }
   ],
   "source": [
    "for attr_id in [5, 6]:\n",
    "    np.random.seed(7777)\n",
    "    emb_array = []\n",
    "\n",
    "    emb_file_list = glob.glob(\"./examples/z_embeds/VggFace2-crop/*.pkl\")\n",
    "\n",
    "    for file_path in real_tqdm(emb_file_list):\n",
    "        if np.random.random() < 0.8:\n",
    "            with open(file_path, \"rb\") as file:\n",
    "                emb_array.append(pickle.load(file)[attr_id].reshape([-1]))\n",
    "    emb_array = np.array(emb_array)\n",
    "\n",
    "    pca = PCA(n_components=1024, svd_solver=\"auto\")\n",
    "\n",
    "    pca.fit(emb_array)\n",
    "    print(np.sum(pca.explained_variance_ratio_))\n",
    "    with open(f\"zattr{attr_id}PCA.pkl\", \"wb\") as file:\n",
    "        pickle.dump(pca, file)\n",
    "\n",
    "    max_pca_array = -np.inf\n",
    "    min_pca_array = np.inf\n",
    "\n",
    "    for i in real_tqdm(range(emb_array.shape[0])):\n",
    "        tmp = emb_array[i:i+1]\n",
    "        pca_array = pca.transform(tmp)\n",
    "        max_pca_array = np.maximum(max_pca_array, pca_array)\n",
    "        min_pca_array = np.minimum(min_pca_array, pca_array)\n",
    "\n",
    "    pca_minmax = dict({\"min\": min_pca_array[0], \"max\": max_pca_array[0]})\n",
    "\n",
    "    with open(f\"zattr{attr_id}PCAMinMax.pkl\", \"wb\") as file:\n",
    "        pickle.dump(pca_minmax, file)\n",
    "    \n",
    "    del pca, emb_array, pca_array, max_pca_array, min_pca_array, pca_minmax, tmp"
   ]
  },
  {
   "cell_type": "markdown",
   "id": "117f318e",
   "metadata": {},
   "source": [
    "# PCA for zattr[7]\n",
    "- 데이터의 절반만 사용\n",
    "- PCA 컴포넌트 512개로 제한"
   ]
  },
  {
   "cell_type": "code",
   "execution_count": 1,
   "id": "ccf52209",
   "metadata": {},
   "outputs": [
    {
     "name": "stdout",
     "output_type": "stream",
     "text": [
      "0.8869378560189847\n"
     ]
    },
    {
     "ename": "",
     "evalue": "",
     "output_type": "error",
     "traceback": [
      "\u001b[1;31mThe Kernel crashed while executing code in the current cell or a previous cell. \n",
      "\u001b[1;31mPlease review the code in the cell(s) to identify a possible cause of the failure. \n",
      "\u001b[1;31mClick <a href='https://aka.ms/vscodeJupyterKernelCrash'>here</a> for more info. \n",
      "\u001b[1;31mView Jupyter <a href='command:jupyter.viewOutput'>log</a> for further details."
     ]
    }
   ],
   "source": [
    "attr_id = 7\n",
    "\n",
    "emb_array = []\n",
    "\n",
    "emb_file_list = glob.glob(\"./examples/z_embeds/VggFace2-crop/*.pkl\")\n",
    "\n",
    "for file_path in real_tqdm(emb_file_list[::2]):\n",
    "    with open(file_path, \"rb\") as file:\n",
    "        emb_array.append(pickle.load(file)[attr_id].reshape([-1]))\n",
    "emb_array = np.array(emb_array)\n",
    "\n",
    "pca = PCA(n_components=512, svd_solver=\"auto\")\n",
    "\n",
    "pca.fit(emb_array)\n",
    "print(np.sum(pca.explained_variance_ratio_))\n",
    "with open(f\"zattr{attr_id}PCA.pkl\", \"wb\") as file:\n",
    "    pickle.dump(pca, file)\n",
    "\n",
    "\n",
    "\n",
    "max_pca_array = -np.inf\n",
    "min_pca_array = np.inf\n",
    "\n",
    "for i in real_tqdm(range(emb_array.shape[0])):\n",
    "    tmp = emb_array[i:i+1]\n",
    "    pca_array = pca.transform(tmp)\n",
    "    max_pca_array = np.maximum(max_pca_array, pca_array)\n",
    "    min_pca_array = np.minimum(min_pca_array, pca_array)\n",
    "\n",
    "pca_minmax = dict({\"min\": min_pca_array[0], \"max\": max_pca_array[0]})\n",
    "\n",
    "with open(f\"zattr{attr_id}PCAMinMax.pkl\", \"wb\") as file:\n",
    "    pickle.dump(pca_minmax, file)"
   ]
  }
 ],
 "metadata": {
  "kernelspec": {
   "display_name": "xaiseung_ghost",
   "language": "python",
   "name": "python3"
  },
  "language_info": {
   "codemirror_mode": {
    "name": "ipython",
    "version": 3
   },
   "file_extension": ".py",
   "mimetype": "text/x-python",
   "name": "python",
   "nbconvert_exporter": "python",
   "pygments_lexer": "ipython3",
   "version": "3.9.19"
  }
 },
 "nbformat": 4,
 "nbformat_minor": 5
}

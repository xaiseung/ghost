{
 "cells": [
  {
   "cell_type": "markdown",
   "id": "fe33e348",
   "metadata": {},
   "source": [
    "# 코드설명(임시)\n",
    "- GAN 중간값 pca하는 코드"
   ]
  },
  {
   "cell_type": "code",
   "execution_count": 3,
   "id": "published-metro",
   "metadata": {},
   "outputs": [],
   "source": [
    "import tqdm\n",
    "\n",
    "def nop(it, *a, **k):\n",
    "    return it\n",
    "\n",
    "real_tqdm = tqdm.tqdm\n",
    "tqdm.tqdm = nop\n",
    "\n",
    "import glob\n",
    "import pickle\n",
    "import os\n",
    "import numpy as np\n",
    "from sklearn.decomposition import PCA\n",
    "import matplotlib.pyplot as plt\n",
    "\n",
    "np.bool = np.bool_\n",
    "\n",
    "pca_save_dir = \"./pca_pkl\"\n",
    "os.makedirs(pca_save_dir, exist_ok=True)"
   ]
  },
  {
   "cell_type": "markdown",
   "id": "a95af4ce",
   "metadata": {},
   "source": [
    "# PCA for zattr[0~7]\n",
    "- 층마다의 데이터 비율: [1.0, 1.0, 1.0, 1.0, 0.9, 0.8, 0.5, 0.5]\n",
    "- PCA 컴포넌트 128개 제한"
   ]
  },
  {
   "cell_type": "code",
   "execution_count": 4,
   "id": "7ca684e9",
   "metadata": {},
   "outputs": [
    {
     "name": "stdout",
     "output_type": "stream",
     "text": [
      "0.999868119409415\n",
      "0.9411023773789768\n",
      "0.9221101978155233\n",
      "0.7781026173732422\n",
      "0.7282376222433978\n",
      "0.7007684418879786\n",
      "0.7398766752827983\n",
      "0.7672928256499298\n"
     ]
    }
   ],
   "source": [
    "for attr_id, data_sRate in zip(range(8), [1.0, 1.0, 1.0, 1.0, 0.9, 0.8, 0.5, 0.5]):\n",
    "    np.random.seed(7777)\n",
    "    emb_array = []\n",
    "\n",
    "    emb_file_list = glob.glob(\"./examples/z_embeds/VggFace2-crop/*.pkl\")\n",
    "\n",
    "    for file_path in real_tqdm(emb_file_list):\n",
    "        if np.random.random() < data_sRate:\n",
    "            with open(file_path, \"rb\") as file:\n",
    "                emb_array.append(pickle.load(file)[attr_id].reshape([-1]))\n",
    "    emb_array = np.array(emb_array)\n",
    "\n",
    "    pca = PCA(n_components=128, svd_solver=\"auto\")\n",
    "\n",
    "    pca.fit(emb_array)\n",
    "    print(np.sum(pca.explained_variance_ratio_))\n",
    "    with open(f\"{pca_save_dir}/Altered_zattr{attr_id}PCA.pkl\", \"wb\") as file:\n",
    "        pickle.dump(pca, file)\n",
    "\n",
    "    max_pca_array = -np.inf\n",
    "    min_pca_array = np.inf\n",
    "\n",
    "    for i in real_tqdm(range(emb_array.shape[0])):\n",
    "        tmp = emb_array[i:i+1]\n",
    "        pca_array = pca.transform(tmp)\n",
    "        max_pca_array = np.maximum(max_pca_array, pca_array)\n",
    "        min_pca_array = np.minimum(min_pca_array, pca_array)\n",
    "\n",
    "    pca_minmax = dict({\"min\": min_pca_array[0], \"max\": max_pca_array[0]})\n",
    "\n",
    "    with open(f\"{pca_save_dir}/Altered_zattr{attr_id}PCAMinMax.pkl\", \"wb\") as file:\n",
    "        pickle.dump(pca_minmax, file)\n",
    "    \n",
    "    del pca, emb_array, pca_array, max_pca_array, min_pca_array, pca_minmax, tmp"
   ]
  },
  {
   "cell_type": "markdown",
   "id": "8a04cd93",
   "metadata": {},
   "source": [
    "# PCA Again\n",
    "- zattr[0~7] 각각에 대하여 PCA화 된 것을 다시 PCA함\n",
    "- 컴포넌트 128개"
   ]
  },
  {
   "cell_type": "code",
   "execution_count": 5,
   "id": "467b8cd3",
   "metadata": {},
   "outputs": [
    {
     "name": "stdout",
     "output_type": "stream",
     "text": [
      "0.9745815360463025\n"
     ]
    }
   ],
   "source": [
    "\n",
    "pca_list = []\n",
    "for attr_id in range(8):\n",
    "    with open(f\"{pca_save_dir}/Altered_zattr{attr_id}PCA.pkl\", \"rb\") as file:\n",
    "        pca_list.append(pickle.load(file))\n",
    "pcaed_emb_array = []\n",
    "emb_file_list = glob.glob(\"./examples/z_embeds/VggFace2-crop/*.pkl\")\n",
    "for file_path in real_tqdm(emb_file_list):\n",
    "    with open(file_path, \"rb\") as file:\n",
    "        tmp = pickle.load(file)\n",
    "    for attr_id in range(8):\n",
    "        tmp[attr_id] = pca_list[attr_id].transform(tmp[attr_id].reshape(1, -1))\n",
    "    pcaed_emb_array.append(np.concatenate(tmp, axis=1))\n",
    "\n",
    "pcaed_emb_array = np.concatenate(pcaed_emb_array, axis=0)\n",
    "pcapca = PCA(n_components=128, svd_solver=\"auto\")\n",
    "pcapca.fit(pcaed_emb_array)\n",
    "print(np.sum(pcapca.explained_variance_ratio_))\n",
    "with open(f\"{pca_save_dir}/Altered_zattr_doublePCA.pkl\", \"wb\") as file:\n",
    "    pickle.dump(pcapca, file)\n",
    "\n",
    "max_pca_array = -np.inf\n",
    "min_pca_array = np.inf\n",
    "\n",
    "for i in real_tqdm(range(pcaed_emb_array.shape[0])):\n",
    "    tmp = pcaed_emb_array[i:i+1]\n",
    "    pcapca_array = pcapca.transform(tmp)\n",
    "    max_pca_array = np.maximum(max_pca_array, pcapca_array)\n",
    "    min_pca_array = np.minimum(min_pca_array, pcapca_array)\n",
    "\n",
    "pcapca_minmax = dict({\"min\": min_pca_array[0], \"max\": max_pca_array[0]})\n",
    "\n",
    "with open(f\"{pca_save_dir}/Altered_zattr_doublePCAMinMax.pkl\", \"wb\") as file:\n",
    "    pickle.dump(pcapca_minmax, file)\n"
   ]
  },
  {
   "cell_type": "code",
   "execution_count": 8,
   "id": "3a9da62c",
   "metadata": {},
   "outputs": [
    {
     "data": {
      "text/plain": [
       "(17262, 1, 1024)"
      ]
     },
     "execution_count": 8,
     "metadata": {},
     "output_type": "execute_result"
    }
   ],
   "source": [
    "pcaed_emb_array.shape"
   ]
  },
  {
   "cell_type": "code",
   "execution_count": null,
   "id": "223b62e8",
   "metadata": {},
   "outputs": [],
   "source": []
  }
 ],
 "metadata": {
  "kernelspec": {
   "display_name": "xaiseung_ghost",
   "language": "python",
   "name": "python3"
  },
  "language_info": {
   "codemirror_mode": {
    "name": "ipython",
    "version": 3
   },
   "file_extension": ".py",
   "mimetype": "text/x-python",
   "name": "python",
   "nbconvert_exporter": "python",
   "pygments_lexer": "ipython3",
   "version": "3.9.19"
  }
 },
 "nbformat": 4,
 "nbformat_minor": 5
}

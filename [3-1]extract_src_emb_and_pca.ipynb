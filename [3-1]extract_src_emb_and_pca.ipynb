{
 "cells": [
  {
   "cell_type": "markdown",
   "id": "fe33e348",
   "metadata": {},
   "source": [
    "# 코드설명(임시)\n",
    "\n",
    "- source embedding 추출하는 코드\n",
    "- source pca"
   ]
  },
  {
   "cell_type": "code",
   "execution_count": 1,
   "id": "published-metro",
   "metadata": {},
   "outputs": [
    {
     "name": "stderr",
     "output_type": "stream",
     "text": [
      "/compuworks/anaconda3/envs/xaiseung_ghost_cuda114/lib/python3.9/site-packages/kornia/augmentation/augmentation.py:1830: DeprecationWarning: GaussianBlur is no longer maintained and will be removed from the future versions. Please use RandomGaussianBlur instead.\n",
      "  warnings.warn(\n",
      "/compuworks/anaconda3/envs/xaiseung_ghost_cuda114/lib/python3.9/site-packages/mxnet/numpy/fallback.py:143: DeprecationWarning: In accordance with NEP 32, the function mirr was removed from NumPy version 1.20.  A replacement for this function is available in the numpy_financial library: https://pypi.org/project/numpy-financial\n",
      "  mirr = onp.mirr\n",
      "/compuworks/anaconda3/envs/xaiseung_ghost_cuda114/lib/python3.9/site-packages/mxnet/numpy/fallback.py:160: DeprecationWarning: In accordance with NEP 32, the function npv was removed from NumPy version 1.20.  A replacement for this function is available in the numpy_financial library: https://pypi.org/project/numpy-financial\n",
      "  npv = onp.npv\n",
      "/compuworks/anaconda3/envs/xaiseung_ghost_cuda114/lib/python3.9/site-packages/mxnet/numpy/fallback.py:164: DeprecationWarning: In accordance with NEP 32, the function pmt was removed from NumPy version 1.20.  A replacement for this function is available in the numpy_financial library: https://pypi.org/project/numpy-financial\n",
      "  pmt = onp.pmt\n",
      "/compuworks/anaconda3/envs/xaiseung_ghost_cuda114/lib/python3.9/site-packages/mxnet/numpy/fallback.py:173: DeprecationWarning: In accordance with NEP 32, the function ppmt was removed from NumPy version 1.20.  A replacement for this function is available in the numpy_financial library: https://pypi.org/project/numpy-financial\n",
      "  ppmt = onp.ppmt\n",
      "/compuworks/anaconda3/envs/xaiseung_ghost_cuda114/lib/python3.9/site-packages/mxnet/numpy/fallback.py:176: DeprecationWarning: In accordance with NEP 32, the function pv was removed from NumPy version 1.20.  A replacement for this function is available in the numpy_financial library: https://pypi.org/project/numpy-financial\n",
      "  pv = onp.pv\n",
      "/compuworks/anaconda3/envs/xaiseung_ghost_cuda114/lib/python3.9/site-packages/mxnet/numpy/fallback.py:177: DeprecationWarning: In accordance with NEP 32, the function rate was removed from NumPy version 1.20.  A replacement for this function is available in the numpy_financial library: https://pypi.org/project/numpy-financial\n",
      "  rate = onp.rate\n",
      "/compuworks/anaconda3/envs/xaiseung_ghost_cuda114/lib/python3.9/site-packages/mxnet/numpy_dispatch_protocol.py:48: DeprecationWarning: distutils Version classes are deprecated. Use packaging.version instead.\n",
      "  cur_np_ver = LooseVersion(_np.__version__)\n",
      "/compuworks/anaconda3/envs/xaiseung_ghost_cuda114/lib/python3.9/site-packages/mxnet/numpy_dispatch_protocol.py:49: DeprecationWarning: distutils Version classes are deprecated. Use packaging.version instead.\n",
      "  np_1_17_ver = LooseVersion('1.17')\n",
      "/compuworks/anaconda3/envs/xaiseung_ghost_cuda114/lib/python3.9/site-packages/mxnet/numpy_dispatch_protocol.py:68: DeprecationWarning: distutils Version classes are deprecated. Use packaging.version instead.\n",
      "  cur_np_ver = LooseVersion(_np.__version__)\n",
      "/compuworks/anaconda3/envs/xaiseung_ghost_cuda114/lib/python3.9/site-packages/mxnet/numpy_dispatch_protocol.py:69: DeprecationWarning: distutils Version classes are deprecated. Use packaging.version instead.\n",
      "  np_1_15_ver = LooseVersion('1.15')\n"
     ]
    }
   ],
   "source": [
    "import tqdm\n",
    "\n",
    "def nop(it, *a, **k):\n",
    "    return it\n",
    "\n",
    "real_tqdm = tqdm.tqdm\n",
    "tqdm.tqdm = nop\n",
    "import os\n",
    "#os.environ[\"CUDA_VISIBLE_DEVICES\"] = \"2\"\n",
    "import pickle\n",
    "import cv2\n",
    "import time\n",
    "import glob\n",
    "\n",
    "import numpy as np\n",
    "np.bool = np.bool_\n",
    "import torch\n",
    "import torch.nn.functional as F\n",
    "from sklearn.decomposition import PCA\n",
    "\n",
    "from utils.inference.faceshifter_run import faceshifter_batch\n",
    "from utils.inference.image_processing import crop_face, get_final_image, show_images, normalize_and_torch, normalize_and_torch_batch\n",
    "from utils.inference.video_processing import read_video, get_target, get_final_video, add_audio_from_another_video, face_enhancement, crop_frames_and_get_transforms, resize_frames\n",
    "from utils.inference.core import model_inference, transform_target_to_torch\n",
    "\n",
    "from network.AEI_Net import AEI_Net\n",
    "from coordinate_reg.image_infer import Handler\n",
    "from insightface_func.face_detect_crop_multi import Face_detect_crop\n",
    "from arcface_model.iresnet import iresnet100\n",
    "from models.pix2pix_model import Pix2PixModel\n",
    "from models.config_sr import TestOptions\n",
    "\n",
    "\n"
   ]
  },
  {
   "cell_type": "markdown",
   "id": "contemporary-factor",
   "metadata": {},
   "source": [
    "### Load Models"
   ]
  },
  {
   "cell_type": "code",
   "execution_count": 2,
   "id": "signed-mustang",
   "metadata": {},
   "outputs": [
    {
     "name": "stdout",
     "output_type": "stream",
     "text": [
      "input mean and std: 127.5 127.5\n",
      "find model: ./insightface_func/models/antelope/glintr100.onnx recognition\n",
      "find model: ./insightface_func/models/antelope/scrfd_10g_bnkps.onnx detection\n",
      "set det-size: (640, 640)\n"
     ]
    }
   ],
   "source": [
    "app = Face_detect_crop(name='antelope', root='./insightface_func/models')\n",
    "app.prepare(ctx_id= 0, det_thresh=0.6, det_size=(640,640))\n",
    "\n",
    "# main model for generation\n",
    "G = AEI_Net(backbone='unet', num_blocks=2, c_id=512)\n",
    "G.eval()\n",
    "G.load_state_dict(torch.load('weights/G_unet_2blocks.pth', map_location=torch.device('cpu')))\n",
    "G = G.cuda()\n",
    "G = G.half()\n",
    "\n",
    "# arcface model to get face embedding\n",
    "netArc = iresnet100(fp16=False)\n",
    "netArc.load_state_dict(torch.load('arcface_model/backbone.pth'))\n",
    "netArc=netArc.cuda()\n",
    "netArc.eval();"
   ]
  },
  {
   "cell_type": "markdown",
   "id": "5d613e79",
   "metadata": {},
   "source": [
    "# Source embeding Extraction"
   ]
  },
  {
   "cell_type": "code",
   "execution_count": 4,
   "id": "d7b1ab62",
   "metadata": {},
   "outputs": [],
   "source": [
    "from sklearn.decomposition import PCA\n",
    "import pickle\n",
    "crop_size = 224\n",
    "np.random.seed(7777)\n",
    "\n",
    "dataset_dir = \"./examples/images/VggFace2-crop\"\n",
    "save_dir = \"./examples/arc_embeds/VggFace2-crop\"\n",
    "os.makedirs(save_dir, exist_ok=True)"
   ]
  },
  {
   "cell_type": "code",
   "execution_count": null,
   "id": "b841106b",
   "metadata": {},
   "outputs": [],
   "source": [
    "\n",
    "\n",
    "id_folder_list = glob.glob(f\"{dataset_dir}/*\")\n",
    "id_folder_list.sort()\n",
    "with open(f\"{save_dir}/arc_embed_list.txt\", \"w\") as embed_log:\n",
    "    output_cnt = 0\n",
    "    for id_folder in real_tqdm(id_folder_list):\n",
    "        pic_names = glob.glob(id_folder+\"/*.jpg\")\n",
    "        pic_names.sort()\n",
    "        for pic_name in pic_names:\n",
    "            source_full = cv2.imread(pic_name)\n",
    "            # source image는 rgb여야 함.\n",
    "            source_curr = cv2.resize(source_full[:, :, ::-1], (crop_size, crop_size))\n",
    "\n",
    "            source_curr = normalize_and_torch(source_curr)\n",
    "            source_embed = netArc(F.interpolate(source_curr, scale_factor=0.5, mode='bilinear', align_corners=True)).cpu().detach().numpy()\n",
    "            \n",
    "            np.save(f\"{save_dir}/{str(output_cnt)}.npy\", source_embed[0])\n",
    "            embed_log.write(pic_name+\"\\n\")\n",
    "            output_cnt += 1\n"
   ]
  },
  {
   "cell_type": "code",
   "execution_count": 5,
   "id": "66534486",
   "metadata": {},
   "outputs": [],
   "source": [
    "pca_dir = \"./pca_pkl\"\n",
    "\n",
    "embeds_path_list = glob.glob(f\"{save_dir}/*.npy\")\n",
    "embeds_path_list.sort()\n",
    "\n",
    "exp_emb = np.load(embeds_path_list[0])\n",
    "\n",
    "embed_array = np.zeros([len(embeds_path_list), exp_emb.shape[0]], dtype=exp_emb.dtype)\n",
    "\n",
    "for i, embed_path in enumerate(embeds_path_list):\n",
    "    embed_array[i] = np.load(embed_path)\n",
    "\n",
    "pca = PCA(svd_solver=\"full\")\n",
    "\n",
    "pca.fit(embed_array)\n",
    "\n",
    "with open(f\"{pca_dir}/netArcPCA.pkl\", \"wb\") as file:\n",
    "    pickle.dump(pca, file)\n",
    "\n",
    "pca_array = pca.transform(embed_array)\n",
    "\n",
    "pca_minmax = dict({\"min\": np.amin(pca_array, axis=0), \"max\": np.amax(pca_array, axis=0)})\n",
    "\n",
    "with open(f\"{pca_dir}/netArcPCAMinMax.pkl\", \"wb\") as file:\n",
    "    pickle.dump(pca_minmax, file)\n"
   ]
  }
 ],
 "metadata": {
  "kernelspec": {
   "display_name": "xaiseung_ghost",
   "language": "python",
   "name": "python3"
  },
  "language_info": {
   "codemirror_mode": {
    "name": "ipython",
    "version": 3
   },
   "file_extension": ".py",
   "mimetype": "text/x-python",
   "name": "python",
   "nbconvert_exporter": "python",
   "pygments_lexer": "ipython3",
   "version": "3.9.19"
  }
 },
 "nbformat": 4,
 "nbformat_minor": 5
}
